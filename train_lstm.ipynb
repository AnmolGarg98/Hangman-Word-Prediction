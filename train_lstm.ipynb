{
 "cells": [
  {
   "cell_type": "code",
   "execution_count": 1,
   "metadata": {},
   "outputs": [
    {
     "name": "stderr",
     "output_type": "stream",
     "text": [
      "/data1/home/nidhi2023/.local/lib/python3.8/site-packages/tqdm/auto.py:21: TqdmWarning: IProgress not found. Please update jupyter and ipywidgets. See https://ipywidgets.readthedocs.io/en/stable/user_install.html\n",
      "  from .autonotebook import tqdm as notebook_tqdm\n"
     ]
    }
   ],
   "source": [
    "import torch\n",
    "import torch.nn as nn\n",
    "import torch.optim as optim\n",
    "from torch.utils.data import DataLoader, Dataset\n",
    "from torch.nn.utils.rnn import pad_sequence\n",
    "import random\n",
    "import numpy as np\n",
    "import tqdm\n",
    "import math\n",
    "from torch.autograd import Variable"
   ]
  },
  {
   "cell_type": "code",
   "execution_count": 2,
   "metadata": {},
   "outputs": [],
   "source": [
    "def build_dictionary(dictionary_file_location):\n",
    "        text_file = open(dictionary_file_location,\"r\")\n",
    "        full_dictionary = text_file.read().splitlines()\n",
    "        text_file.close()\n",
    "        return full_dictionary\n",
    "    \n",
    "full_dictionary_location = \"words_250000_train.txt\"\n",
    "full_dictionary = build_dictionary(full_dictionary_location)"
   ]
  },
  {
   "cell_type": "code",
   "execution_count": 3,
   "metadata": {},
   "outputs": [],
   "source": [
    "class Dict_Dataset(Dataset):\n",
    "    def __init__(self, dictionary):\n",
    "        self.words = dictionary\n",
    "        # Create a mapping from each letter to its corresponding index (0-25)\n",
    "        self.alphabets = 'abcdefghijklmnopqrstuvwxyz'\n",
    "        self.CHAR_TO_INDEX = {char: idx for idx, char in enumerate(self.alphabets)}\n",
    "\n",
    "        self.letter_weight = {}\n",
    "        for i in dictionary:\n",
    "            for l in self.alphabets:\n",
    "                if l in i:\n",
    "                    if self.letter_weight.get(l):\n",
    "                        self.letter_weight[l] += 1\n",
    "                    else:\n",
    "                        self.letter_weight[l] = 1\n",
    "\n",
    "    def __len__(self):\n",
    "        return len(self.words)\n",
    "    \n",
    "    def cnt_to_guesses(self,char_set,cnt):\n",
    "        lst = list(char_set)\n",
    "        return list(np.random.choice(lst, cnt, p=[self.letter_weight[i] for i in lst]/np.sum([self.letter_weight[i] for i in lst]), replace=False))\n",
    "    \n",
    "    def one_hot_encode(self,char):\n",
    "        \"\"\"Convert a character to a one-hot vector.\"\"\"\n",
    "        vec = torch.zeros(28)\n",
    "        vec[self.CHAR_TO_INDEX[char]] = 1.0\n",
    "        return vec\n",
    "\n",
    "    def word_to_matrix(self,word, correct_guesses,wrong_guesses):\n",
    "        word = word.lower()  # Ensure the word is lowercase\n",
    "        matrix = torch.zeros(38, 28)  # Initialize a (38, 28) matrix with zeros 27,28 digits for depicting blanks and wrong vector respect.\n",
    "        # matrix[:len(word),26]=1  ## depicting word length in our sequence\n",
    "        # print(matrix)\n",
    "        for i, char in enumerate(word):\n",
    "            if char in correct_guesses:\n",
    "                # print(char)\n",
    "                matrix[i] = self.one_hot_encode(char)\n",
    "        # print('rssa')\n",
    "        for i, char in enumerate(wrong_guesses):\n",
    "            # print(char)\n",
    "            matrix[32+i] = self.one_hot_encode(char)  \n",
    "            matrix[32+i,27]=1\n",
    "        matrix[:len(word),26]=1  ## depicting word length in our sequence\n",
    "        return matrix\n",
    "\n",
    "    def multi_encode(self,set_char):\n",
    "        string = ''.join(set_char)\n",
    "        vec = torch.zeros(26)\n",
    "        for char in string:\n",
    "            vec[self.CHAR_TO_INDEX[char]] = 1.0\n",
    "        return vec\n",
    "    \n",
    "    def __getitem__(self, idx):\n",
    "        wrd = self.words[idx]\n",
    "        set_alpha = set(wrd)\n",
    "\n",
    "        if len(set_alpha)==1:\n",
    "            return self.word_to_matrix( wrd, '', '' ), self.multi_encode(set_alpha)\n",
    "        \n",
    "        if 'e' in set_alpha:\n",
    "            cnt_correct_guess = np.random.randint(len(set_alpha)-1) ## -1 for e, -1 for atleast one unguessed\n",
    "            cnt_incorrect_guess = np.random.randint(6) ## 0 to 5\n",
    "            correct_guesses = self.cnt_to_guesses(set_alpha-set('e'),cnt_correct_guess)\n",
    "            wrong_guesses = self.cnt_to_guesses(set(self.alphabets)-set_alpha,cnt_incorrect_guess)\n",
    "            return self.word_to_matrix( wrd, ''.join(correct_guesses)+'e', ''.join(wrong_guesses) ), self.multi_encode(set_alpha - set(''.join(correct_guesses)+'e'))\n",
    "        \n",
    "        elif 'a' in set_alpha:\n",
    "            cnt_correct_guess = np.random.randint(len(set_alpha)-1) ## -1 for a, -1 for atleast one unguessed\n",
    "            cnt_incorrect_guess = np.random.randint(5) ## 0 to 4 , one for 'e'\n",
    "            correct_guesses = self.cnt_to_guesses(set_alpha-set('a'),cnt_correct_guess)\n",
    "            wrong_guesses = self.cnt_to_guesses(set(self.alphabets)-set_alpha-set('e'),cnt_incorrect_guess)\n",
    "            return self.word_to_matrix( wrd, ''.join(correct_guesses)+'a', ''.join(wrong_guesses)+'e' ), self.multi_encode(set_alpha - set(''.join(correct_guesses)+'a'))\n",
    "        \n",
    "        elif 'i' in set_alpha:\n",
    "            cnt_correct_guess = np.random.randint(len(set_alpha)-1) ## -1 for i, -1 for atleast one unguessed\n",
    "            cnt_incorrect_guess = np.random.randint(4) ## 0 to 3 , two for 'e','a'\n",
    "            correct_guesses = self.cnt_to_guesses(set_alpha-set('i'),cnt_correct_guess)\n",
    "            wrong_guesses = self.cnt_to_guesses(set(self.alphabets)-set_alpha-set('ea'),cnt_incorrect_guess)\n",
    "            return self.word_to_matrix( wrd, ''.join(correct_guesses)+'i', ''.join(wrong_guesses)+'ea' ), self.multi_encode(set_alpha - set(''.join(correct_guesses)+'i'))\n",
    "        \n",
    "        elif 'o' in set_alpha:\n",
    "            cnt_correct_guess = np.random.randint(len(set_alpha)-1) ## -1 for o, -1 for atleast one unguessed\n",
    "            cnt_incorrect_guess = np.random.randint(3) ## 0 to 2 , three for 'e','a','i'\n",
    "            correct_guesses = self.cnt_to_guesses(set_alpha-set('o'),cnt_correct_guess)\n",
    "            wrong_guesses = self.cnt_to_guesses(set(self.alphabets)-set_alpha-set('eai'),cnt_incorrect_guess)\n",
    "            return self.word_to_matrix( wrd, ''.join(correct_guesses)+'o', ''.join(wrong_guesses)+'eai' ), self.multi_encode(set_alpha - set(''.join(correct_guesses)+'o'))\n",
    "        \n",
    "        else:\n",
    "            return self.word_to_matrix( wrd, '', 'eaio' ), self.multi_encode(set_alpha)\n"
   ]
  },
  {
   "cell_type": "code",
   "execution_count": 4,
   "metadata": {},
   "outputs": [],
   "source": [
    "dataset = Dict_Dataset(full_dictionary)"
   ]
  },
  {
   "cell_type": "code",
   "execution_count": 5,
   "metadata": {},
   "outputs": [],
   "source": [
    "class LSTMClassifier(nn.Module):\n",
    "\tdef __init__(self, batch_size, output_size, hidden_size, vocab_size, embedding_length,device):\n",
    "\t\tsuper(LSTMClassifier, self).__init__()\n",
    "\t\tself.batch_size = batch_size\n",
    "\t\tself.output_size = output_size\n",
    "\t\tself.hidden_size = hidden_size\n",
    "\t\tself.vocab_size = vocab_size\n",
    "\t\tself.embedding_length = embedding_length\n",
    "\t\tself.device = device\n",
    "\t\t\n",
    "\t\tself.word_embeddings = nn.Linear(vocab_size, embedding_length)\n",
    "\t\t# self.word_embeddings.weight = nn.Parameter(weights, requires_grad=False) \n",
    "\t\tself.lstm = nn.LSTM(embedding_length, hidden_size) # Our main hero for this tutorial\n",
    "\t\tself.label = nn.Linear(hidden_size, output_size)\n",
    "\t\t\n",
    "\tdef forward(self, input_sentence, batch_size=None):\n",
    "\t\tinput = self.word_embeddings(input_sentence) \n",
    "\t\tinput = input.permute(1, 0, 2) \n",
    "\t\tif batch_size is None:\n",
    "\t\t\th_0 = Variable(torch.zeros(1, self.batch_size, self.hidden_size).to(self.device)) \n",
    "\t\t\tc_0 = Variable(torch.zeros(1, self.batch_size, self.hidden_size).to(self.device)) \n",
    "\t\telse:\n",
    "\t\t\th_0 = Variable(torch.zeros(1, batch_size, self.hidden_size).to(self.device))\n",
    "\t\t\tc_0 = Variable(torch.zeros(1, batch_size, self.hidden_size).to(self.device))\n",
    "\t\toutput, (final_hidden_state, final_cell_state) = self.lstm(input, (h_0, c_0))\n",
    "\t\tfinal_output = self.label(final_hidden_state[-1]) \n",
    "\t\t\n",
    "\t\treturn final_output"
   ]
  },
  {
   "cell_type": "code",
   "execution_count": 6,
   "metadata": {},
   "outputs": [],
   "source": [
    "def clip_gradient(model, clip_value):\n",
    "    params = list(filter(lambda p: p.grad is not None, model.parameters()))\n",
    "    for p in params:\n",
    "        p.grad.data.clamp_(-clip_value, clip_value)"
   ]
  },
  {
   "cell_type": "code",
   "execution_count": 8,
   "metadata": {},
   "outputs": [
    {
     "name": "stderr",
     "output_type": "stream",
     "text": [
      "100%|██████████| 7103/7103 [01:15<00:00, 94.53it/s] \n"
     ]
    },
    {
     "name": "stdout",
     "output_type": "stream",
     "text": [
      "Epoch [1/150], Loss: 0.3268\n"
     ]
    },
    {
     "name": "stderr",
     "output_type": "stream",
     "text": [
      "100%|██████████| 1420/1420 [00:09<00:00, 150.46it/s]\n"
     ]
    },
    {
     "name": "stdout",
     "output_type": "stream",
     "text": [
      "Accuracy: 54.63%\n"
     ]
    },
    {
     "name": "stderr",
     "output_type": "stream",
     "text": [
      "100%|██████████| 7103/7103 [01:16<00:00, 92.92it/s] \n"
     ]
    },
    {
     "name": "stdout",
     "output_type": "stream",
     "text": [
      "Epoch [2/150], Loss: 0.2747\n"
     ]
    },
    {
     "name": "stderr",
     "output_type": "stream",
     "text": [
      "100%|██████████| 1420/1420 [00:10<00:00, 134.53it/s]\n"
     ]
    },
    {
     "name": "stdout",
     "output_type": "stream",
     "text": [
      "Accuracy: 60.24%\n"
     ]
    },
    {
     "name": "stderr",
     "output_type": "stream",
     "text": [
      "100%|██████████| 7103/7103 [01:15<00:00, 93.53it/s] \n"
     ]
    },
    {
     "name": "stdout",
     "output_type": "stream",
     "text": [
      "Epoch [3/150], Loss: 0.2625\n"
     ]
    },
    {
     "name": "stderr",
     "output_type": "stream",
     "text": [
      "100%|██████████| 1420/1420 [00:10<00:00, 134.22it/s]\n"
     ]
    },
    {
     "name": "stdout",
     "output_type": "stream",
     "text": [
      "Accuracy: 62.96%\n"
     ]
    },
    {
     "name": "stderr",
     "output_type": "stream",
     "text": [
      "100%|██████████| 7103/7103 [01:17<00:00, 92.08it/s] \n"
     ]
    },
    {
     "name": "stdout",
     "output_type": "stream",
     "text": [
      "Epoch [4/150], Loss: 0.2564\n"
     ]
    },
    {
     "name": "stderr",
     "output_type": "stream",
     "text": [
      "100%|██████████| 1420/1420 [00:11<00:00, 118.88it/s]\n"
     ]
    },
    {
     "name": "stdout",
     "output_type": "stream",
     "text": [
      "Accuracy: 64.39%\n"
     ]
    },
    {
     "name": "stderr",
     "output_type": "stream",
     "text": [
      "100%|██████████| 7103/7103 [01:14<00:00, 95.70it/s] \n"
     ]
    },
    {
     "name": "stdout",
     "output_type": "stream",
     "text": [
      "Epoch [5/150], Loss: 0.2539\n"
     ]
    },
    {
     "name": "stderr",
     "output_type": "stream",
     "text": [
      "100%|██████████| 1420/1420 [00:10<00:00, 141.36it/s]\n"
     ]
    },
    {
     "name": "stdout",
     "output_type": "stream",
     "text": [
      "Accuracy: 65.36%\n"
     ]
    },
    {
     "name": "stderr",
     "output_type": "stream",
     "text": [
      "100%|██████████| 7103/7103 [01:14<00:00, 95.42it/s] \n"
     ]
    },
    {
     "name": "stdout",
     "output_type": "stream",
     "text": [
      "Epoch [6/150], Loss: 0.2516\n"
     ]
    },
    {
     "name": "stderr",
     "output_type": "stream",
     "text": [
      "100%|██████████| 1420/1420 [00:10<00:00, 138.67it/s]\n"
     ]
    },
    {
     "name": "stdout",
     "output_type": "stream",
     "text": [
      "Accuracy: 65.78%\n"
     ]
    },
    {
     "name": "stderr",
     "output_type": "stream",
     "text": [
      "100%|██████████| 7103/7103 [01:15<00:00, 93.95it/s] \n"
     ]
    },
    {
     "name": "stdout",
     "output_type": "stream",
     "text": [
      "Epoch [7/150], Loss: 0.2496\n"
     ]
    },
    {
     "name": "stderr",
     "output_type": "stream",
     "text": [
      "100%|██████████| 1420/1420 [00:10<00:00, 133.58it/s]\n"
     ]
    },
    {
     "name": "stdout",
     "output_type": "stream",
     "text": [
      "Accuracy: 65.77%\n"
     ]
    },
    {
     "name": "stderr",
     "output_type": "stream",
     "text": [
      "100%|██████████| 7103/7103 [01:11<00:00, 98.90it/s] \n"
     ]
    },
    {
     "name": "stdout",
     "output_type": "stream",
     "text": [
      "Epoch [8/150], Loss: 0.2487\n"
     ]
    },
    {
     "name": "stderr",
     "output_type": "stream",
     "text": [
      "100%|██████████| 1420/1420 [00:10<00:00, 141.71it/s]\n"
     ]
    },
    {
     "name": "stdout",
     "output_type": "stream",
     "text": [
      "Accuracy: 66.59%\n"
     ]
    },
    {
     "name": "stderr",
     "output_type": "stream",
     "text": [
      "100%|██████████| 7103/7103 [01:13<00:00, 96.65it/s] \n"
     ]
    },
    {
     "name": "stdout",
     "output_type": "stream",
     "text": [
      "Epoch [9/150], Loss: 0.2471\n"
     ]
    },
    {
     "name": "stderr",
     "output_type": "stream",
     "text": [
      "100%|██████████| 1420/1420 [00:09<00:00, 145.48it/s]\n"
     ]
    },
    {
     "name": "stdout",
     "output_type": "stream",
     "text": [
      "Accuracy: 67.29%\n"
     ]
    },
    {
     "name": "stderr",
     "output_type": "stream",
     "text": [
      "100%|██████████| 7103/7103 [01:16<00:00, 92.73it/s] \n"
     ]
    },
    {
     "name": "stdout",
     "output_type": "stream",
     "text": [
      "Epoch [10/150], Loss: 0.2464\n"
     ]
    },
    {
     "name": "stderr",
     "output_type": "stream",
     "text": [
      "100%|██████████| 1420/1420 [00:10<00:00, 139.10it/s]\n"
     ]
    },
    {
     "name": "stdout",
     "output_type": "stream",
     "text": [
      "Accuracy: 67.71%\n"
     ]
    },
    {
     "name": "stderr",
     "output_type": "stream",
     "text": [
      "100%|██████████| 7103/7103 [01:22<00:00, 85.62it/s] \n"
     ]
    },
    {
     "name": "stdout",
     "output_type": "stream",
     "text": [
      "Epoch [11/150], Loss: 0.2457\n"
     ]
    },
    {
     "name": "stderr",
     "output_type": "stream",
     "text": [
      "100%|██████████| 1420/1420 [00:10<00:00, 133.31it/s]\n"
     ]
    },
    {
     "name": "stdout",
     "output_type": "stream",
     "text": [
      "Accuracy: 67.22%\n"
     ]
    },
    {
     "name": "stderr",
     "output_type": "stream",
     "text": [
      "100%|██████████| 7103/7103 [01:13<00:00, 96.51it/s] \n"
     ]
    },
    {
     "name": "stdout",
     "output_type": "stream",
     "text": [
      "Epoch [12/150], Loss: 0.2446\n"
     ]
    },
    {
     "name": "stderr",
     "output_type": "stream",
     "text": [
      "100%|██████████| 1420/1420 [00:09<00:00, 144.16it/s]\n"
     ]
    },
    {
     "name": "stdout",
     "output_type": "stream",
     "text": [
      "Accuracy: 67.39%\n"
     ]
    },
    {
     "name": "stderr",
     "output_type": "stream",
     "text": [
      "100%|██████████| 7103/7103 [01:17<00:00, 91.48it/s] \n"
     ]
    },
    {
     "name": "stdout",
     "output_type": "stream",
     "text": [
      "Epoch [13/150], Loss: 0.2440\n"
     ]
    },
    {
     "name": "stderr",
     "output_type": "stream",
     "text": [
      "100%|██████████| 1420/1420 [00:09<00:00, 148.62it/s]\n"
     ]
    },
    {
     "name": "stdout",
     "output_type": "stream",
     "text": [
      "Accuracy: 68.07%\n"
     ]
    },
    {
     "name": "stderr",
     "output_type": "stream",
     "text": [
      "100%|██████████| 7103/7103 [01:18<00:00, 89.97it/s] \n"
     ]
    },
    {
     "name": "stdout",
     "output_type": "stream",
     "text": [
      "Epoch [14/150], Loss: 0.2434\n"
     ]
    },
    {
     "name": "stderr",
     "output_type": "stream",
     "text": [
      "100%|██████████| 1420/1420 [00:11<00:00, 128.34it/s]\n"
     ]
    },
    {
     "name": "stdout",
     "output_type": "stream",
     "text": [
      "Accuracy: 68.07%\n"
     ]
    },
    {
     "name": "stderr",
     "output_type": "stream",
     "text": [
      "100%|██████████| 7103/7103 [01:22<00:00, 85.94it/s] \n"
     ]
    },
    {
     "name": "stdout",
     "output_type": "stream",
     "text": [
      "Epoch [15/150], Loss: 0.2431\n"
     ]
    },
    {
     "name": "stderr",
     "output_type": "stream",
     "text": [
      "100%|██████████| 1420/1420 [00:11<00:00, 123.05it/s]\n"
     ]
    },
    {
     "name": "stdout",
     "output_type": "stream",
     "text": [
      "Accuracy: 68.30%\n"
     ]
    },
    {
     "name": "stderr",
     "output_type": "stream",
     "text": [
      "100%|██████████| 7103/7103 [01:24<00:00, 83.70it/s] \n"
     ]
    },
    {
     "name": "stdout",
     "output_type": "stream",
     "text": [
      "Epoch [16/150], Loss: 0.2430\n"
     ]
    },
    {
     "name": "stderr",
     "output_type": "stream",
     "text": [
      "100%|██████████| 1420/1420 [00:11<00:00, 119.02it/s]\n"
     ]
    },
    {
     "name": "stdout",
     "output_type": "stream",
     "text": [
      "Accuracy: 68.30%\n"
     ]
    },
    {
     "name": "stderr",
     "output_type": "stream",
     "text": [
      "100%|██████████| 7103/7103 [02:21<00:00, 50.29it/s] \n"
     ]
    },
    {
     "name": "stdout",
     "output_type": "stream",
     "text": [
      "Epoch [17/150], Loss: 0.2422\n"
     ]
    },
    {
     "name": "stderr",
     "output_type": "stream",
     "text": [
      "100%|██████████| 1420/1420 [00:22<00:00, 63.99it/s]\n"
     ]
    },
    {
     "name": "stdout",
     "output_type": "stream",
     "text": [
      "Accuracy: 68.48%\n"
     ]
    },
    {
     "name": "stderr",
     "output_type": "stream",
     "text": [
      "100%|██████████| 7103/7103 [02:26<00:00, 48.64it/s]\n"
     ]
    },
    {
     "name": "stdout",
     "output_type": "stream",
     "text": [
      "Epoch [18/150], Loss: 0.2417\n"
     ]
    },
    {
     "name": "stderr",
     "output_type": "stream",
     "text": [
      "100%|██████████| 1420/1420 [00:19<00:00, 74.36it/s] \n"
     ]
    },
    {
     "name": "stdout",
     "output_type": "stream",
     "text": [
      "Accuracy: 68.96%\n"
     ]
    },
    {
     "name": "stderr",
     "output_type": "stream",
     "text": [
      "100%|██████████| 7103/7103 [01:32<00:00, 76.83it/s] \n"
     ]
    },
    {
     "name": "stdout",
     "output_type": "stream",
     "text": [
      "Epoch [19/150], Loss: 0.2416\n"
     ]
    },
    {
     "name": "stderr",
     "output_type": "stream",
     "text": [
      "100%|██████████| 1420/1420 [00:10<00:00, 135.69it/s]\n"
     ]
    },
    {
     "name": "stdout",
     "output_type": "stream",
     "text": [
      "Accuracy: 68.91%\n"
     ]
    },
    {
     "name": "stderr",
     "output_type": "stream",
     "text": [
      "100%|██████████| 7103/7103 [01:28<00:00, 80.45it/s] \n"
     ]
    },
    {
     "name": "stdout",
     "output_type": "stream",
     "text": [
      "Epoch [20/150], Loss: 0.2411\n"
     ]
    },
    {
     "name": "stderr",
     "output_type": "stream",
     "text": [
      "100%|██████████| 1420/1420 [00:11<00:00, 124.71it/s]\n"
     ]
    },
    {
     "name": "stdout",
     "output_type": "stream",
     "text": [
      "Accuracy: 68.84%\n"
     ]
    },
    {
     "name": "stderr",
     "output_type": "stream",
     "text": [
      "100%|██████████| 7103/7103 [01:27<00:00, 80.94it/s] \n"
     ]
    },
    {
     "name": "stdout",
     "output_type": "stream",
     "text": [
      "Epoch [21/150], Loss: 0.2410\n"
     ]
    },
    {
     "name": "stderr",
     "output_type": "stream",
     "text": [
      "100%|██████████| 1420/1420 [00:10<00:00, 133.65it/s]\n"
     ]
    },
    {
     "name": "stdout",
     "output_type": "stream",
     "text": [
      "Accuracy: 68.63%\n"
     ]
    },
    {
     "name": "stderr",
     "output_type": "stream",
     "text": [
      "100%|██████████| 7103/7103 [01:25<00:00, 82.79it/s] \n",
      "100%|██████████| 1420/1420 [00:10<00:00, 141.28it/s]\n",
      "100%|██████████| 7103/7103 [01:14<00:00, 95.11it/s] \n"
     ]
    },
    {
     "name": "stdout",
     "output_type": "stream",
     "text": [
      "Epoch [23/150], Loss: 0.2406\n"
     ]
    },
    {
     "name": "stderr",
     "output_type": "stream",
     "text": [
      "100%|██████████| 1420/1420 [00:08<00:00, 167.34it/s]\n"
     ]
    },
    {
     "name": "stdout",
     "output_type": "stream",
     "text": [
      "Accuracy: 68.85%\n"
     ]
    },
    {
     "name": "stderr",
     "output_type": "stream",
     "text": [
      "100%|██████████| 7103/7103 [01:06<00:00, 106.67it/s]\n"
     ]
    },
    {
     "name": "stdout",
     "output_type": "stream",
     "text": [
      "Epoch [24/150], Loss: 0.2397\n"
     ]
    },
    {
     "name": "stderr",
     "output_type": "stream",
     "text": [
      "100%|██████████| 1420/1420 [00:08<00:00, 171.45it/s]\n"
     ]
    },
    {
     "name": "stdout",
     "output_type": "stream",
     "text": [
      "Accuracy: 69.27%\n"
     ]
    },
    {
     "name": "stderr",
     "output_type": "stream",
     "text": [
      "100%|██████████| 7103/7103 [01:04<00:00, 109.37it/s]\n",
      "100%|██████████| 1420/1420 [00:08<00:00, 171.18it/s]\n",
      "100%|██████████| 7103/7103 [01:08<00:00, 103.55it/s]\n",
      "100%|██████████| 1420/1420 [00:08<00:00, 173.03it/s]\n",
      "100%|██████████| 7103/7103 [01:08<00:00, 103.85it/s]\n"
     ]
    },
    {
     "name": "stdout",
     "output_type": "stream",
     "text": [
      "Epoch [27/150], Loss: 0.2395\n"
     ]
    },
    {
     "name": "stderr",
     "output_type": "stream",
     "text": [
      "100%|██████████| 1420/1420 [00:08<00:00, 158.87it/s]\n"
     ]
    },
    {
     "name": "stdout",
     "output_type": "stream",
     "text": [
      "Accuracy: 69.50%\n"
     ]
    },
    {
     "name": "stderr",
     "output_type": "stream",
     "text": [
      "100%|██████████| 7103/7103 [01:11<00:00, 98.94it/s] \n",
      "100%|██████████| 1420/1420 [00:08<00:00, 161.66it/s]\n",
      "100%|██████████| 7103/7103 [01:10<00:00, 100.60it/s]\n",
      "100%|██████████| 1420/1420 [00:08<00:00, 170.88it/s]\n",
      "100%|██████████| 7103/7103 [01:07<00:00, 104.80it/s]\n"
     ]
    },
    {
     "name": "stdout",
     "output_type": "stream",
     "text": [
      "Epoch [30/150], Loss: 0.2390\n"
     ]
    },
    {
     "name": "stderr",
     "output_type": "stream",
     "text": [
      "100%|██████████| 1420/1420 [00:08<00:00, 169.61it/s]\n"
     ]
    },
    {
     "name": "stdout",
     "output_type": "stream",
     "text": [
      "Accuracy: 69.84%\n"
     ]
    },
    {
     "name": "stderr",
     "output_type": "stream",
     "text": [
      "100%|██████████| 7103/7103 [01:11<00:00, 100.01it/s]\n"
     ]
    },
    {
     "name": "stdout",
     "output_type": "stream",
     "text": [
      "Epoch [31/150], Loss: 0.2389\n"
     ]
    },
    {
     "name": "stderr",
     "output_type": "stream",
     "text": [
      "100%|██████████| 1420/1420 [00:11<00:00, 124.41it/s]\n"
     ]
    },
    {
     "name": "stdout",
     "output_type": "stream",
     "text": [
      "Accuracy: 69.61%\n"
     ]
    },
    {
     "name": "stderr",
     "output_type": "stream",
     "text": [
      "100%|██████████| 7103/7103 [01:28<00:00, 80.49it/s] \n",
      "100%|██████████| 1420/1420 [00:10<00:00, 137.23it/s]\n",
      "100%|██████████| 7103/7103 [01:31<00:00, 77.81it/s] \n"
     ]
    },
    {
     "name": "stdout",
     "output_type": "stream",
     "text": [
      "Epoch [33/150], Loss: 0.2386\n"
     ]
    },
    {
     "name": "stderr",
     "output_type": "stream",
     "text": [
      "100%|██████████| 1420/1420 [00:11<00:00, 125.00it/s]\n"
     ]
    },
    {
     "name": "stdout",
     "output_type": "stream",
     "text": [
      "Accuracy: 69.63%\n"
     ]
    },
    {
     "name": "stderr",
     "output_type": "stream",
     "text": [
      "100%|██████████| 7103/7103 [01:31<00:00, 77.91it/s] \n"
     ]
    },
    {
     "name": "stdout",
     "output_type": "stream",
     "text": [
      "Epoch [34/150], Loss: 0.2386\n"
     ]
    },
    {
     "name": "stderr",
     "output_type": "stream",
     "text": [
      "100%|██████████| 1420/1420 [00:11<00:00, 121.94it/s]\n"
     ]
    },
    {
     "name": "stdout",
     "output_type": "stream",
     "text": [
      "Accuracy: 69.72%\n"
     ]
    },
    {
     "name": "stderr",
     "output_type": "stream",
     "text": [
      "100%|██████████| 7103/7103 [01:29<00:00, 79.02it/s] \n",
      "100%|██████████| 1420/1420 [00:11<00:00, 128.96it/s]\n",
      "100%|██████████| 7103/7103 [01:34<00:00, 74.93it/s] \n"
     ]
    },
    {
     "name": "stdout",
     "output_type": "stream",
     "text": [
      "Epoch [36/150], Loss: 0.2380\n"
     ]
    },
    {
     "name": "stderr",
     "output_type": "stream",
     "text": [
      "100%|██████████| 1420/1420 [00:12<00:00, 109.32it/s]\n"
     ]
    },
    {
     "name": "stdout",
     "output_type": "stream",
     "text": [
      "Accuracy: 69.71%\n"
     ]
    },
    {
     "name": "stderr",
     "output_type": "stream",
     "text": [
      "100%|██████████| 7103/7103 [01:29<00:00, 79.63it/s] \n",
      "100%|██████████| 1420/1420 [00:11<00:00, 125.46it/s]\n",
      "100%|██████████| 7103/7103 [01:33<00:00, 76.31it/s] \n"
     ]
    },
    {
     "name": "stdout",
     "output_type": "stream",
     "text": [
      "Epoch [38/150], Loss: 0.2377\n"
     ]
    },
    {
     "name": "stderr",
     "output_type": "stream",
     "text": [
      "100%|██████████| 1420/1420 [00:12<00:00, 115.36it/s]\n"
     ]
    },
    {
     "name": "stdout",
     "output_type": "stream",
     "text": [
      "Accuracy: 69.59%\n"
     ]
    },
    {
     "name": "stderr",
     "output_type": "stream",
     "text": [
      "100%|██████████| 7103/7103 [01:35<00:00, 74.23it/s] \n",
      "100%|██████████| 1420/1420 [00:12<00:00, 111.49it/s]\n",
      "100%|██████████| 7103/7103 [01:34<00:00, 75.00it/s] \n"
     ]
    },
    {
     "name": "stdout",
     "output_type": "stream",
     "text": [
      "Epoch [40/150], Loss: 0.2375\n"
     ]
    },
    {
     "name": "stderr",
     "output_type": "stream",
     "text": [
      "100%|██████████| 1420/1420 [00:12<00:00, 116.45it/s]\n"
     ]
    },
    {
     "name": "stdout",
     "output_type": "stream",
     "text": [
      "Accuracy: 69.93%\n"
     ]
    },
    {
     "name": "stderr",
     "output_type": "stream",
     "text": [
      "100%|██████████| 7103/7103 [01:28<00:00, 80.14it/s] \n",
      "100%|██████████| 1420/1420 [00:10<00:00, 130.00it/s]\n",
      "100%|██████████| 7103/7103 [01:31<00:00, 77.22it/s] \n"
     ]
    },
    {
     "name": "stdout",
     "output_type": "stream",
     "text": [
      "Epoch [42/150], Loss: 0.2374\n"
     ]
    },
    {
     "name": "stderr",
     "output_type": "stream",
     "text": [
      "100%|██████████| 1420/1420 [00:11<00:00, 124.04it/s]\n"
     ]
    },
    {
     "name": "stdout",
     "output_type": "stream",
     "text": [
      "Accuracy: 69.65%\n"
     ]
    },
    {
     "name": "stderr",
     "output_type": "stream",
     "text": [
      "100%|██████████| 7103/7103 [01:31<00:00, 77.34it/s] \n"
     ]
    },
    {
     "name": "stdout",
     "output_type": "stream",
     "text": [
      "Epoch [43/150], Loss: 0.2373\n"
     ]
    },
    {
     "name": "stderr",
     "output_type": "stream",
     "text": [
      "100%|██████████| 1420/1420 [00:11<00:00, 124.82it/s]\n"
     ]
    },
    {
     "name": "stdout",
     "output_type": "stream",
     "text": [
      "Accuracy: 70.11%\n"
     ]
    },
    {
     "name": "stderr",
     "output_type": "stream",
     "text": [
      "100%|██████████| 7103/7103 [00:56<00:00, 124.82it/s]\n"
     ]
    },
    {
     "name": "stdout",
     "output_type": "stream",
     "text": [
      "Epoch [44/150], Loss: 0.2372\n"
     ]
    },
    {
     "name": "stderr",
     "output_type": "stream",
     "text": [
      "100%|██████████| 1420/1420 [00:06<00:00, 218.99it/s]\n"
     ]
    },
    {
     "name": "stdout",
     "output_type": "stream",
     "text": [
      "Accuracy: 70.03%\n"
     ]
    },
    {
     "name": "stderr",
     "output_type": "stream",
     "text": [
      "100%|██████████| 7103/7103 [00:48<00:00, 146.43it/s]\n"
     ]
    },
    {
     "name": "stdout",
     "output_type": "stream",
     "text": [
      "Epoch [45/150], Loss: 0.2371\n"
     ]
    },
    {
     "name": "stderr",
     "output_type": "stream",
     "text": [
      "100%|██████████| 1420/1420 [00:06<00:00, 232.72it/s]\n"
     ]
    },
    {
     "name": "stdout",
     "output_type": "stream",
     "text": [
      "Accuracy: 69.89%\n"
     ]
    },
    {
     "name": "stderr",
     "output_type": "stream",
     "text": [
      "100%|██████████| 7103/7103 [00:47<00:00, 149.74it/s]\n",
      "100%|██████████| 1420/1420 [00:09<00:00, 145.64it/s]\n",
      "100%|██████████| 7103/7103 [00:47<00:00, 149.61it/s]\n",
      "100%|██████████| 1420/1420 [00:06<00:00, 216.03it/s]\n",
      "100%|██████████| 7103/7103 [00:46<00:00, 153.46it/s]\n"
     ]
    },
    {
     "name": "stdout",
     "output_type": "stream",
     "text": [
      "Epoch [48/150], Loss: 0.2368\n"
     ]
    },
    {
     "name": "stderr",
     "output_type": "stream",
     "text": [
      "100%|██████████| 1420/1420 [00:05<00:00, 245.79it/s]\n"
     ]
    },
    {
     "name": "stdout",
     "output_type": "stream",
     "text": [
      "Accuracy: 69.88%\n"
     ]
    },
    {
     "name": "stderr",
     "output_type": "stream",
     "text": [
      "100%|██████████| 7103/7103 [00:49<00:00, 143.83it/s]\n"
     ]
    },
    {
     "name": "stdout",
     "output_type": "stream",
     "text": [
      "Epoch [49/150], Loss: 0.2366\n"
     ]
    },
    {
     "name": "stderr",
     "output_type": "stream",
     "text": [
      "100%|██████████| 1420/1420 [00:09<00:00, 145.58it/s]\n"
     ]
    },
    {
     "name": "stdout",
     "output_type": "stream",
     "text": [
      "Accuracy: 70.62%\n"
     ]
    },
    {
     "name": "stderr",
     "output_type": "stream",
     "text": [
      "100%|██████████| 7103/7103 [01:19<00:00, 89.71it/s] \n",
      "100%|██████████| 1420/1420 [00:11<00:00, 122.45it/s]\n",
      "100%|██████████| 7103/7103 [01:23<00:00, 85.36it/s] \n"
     ]
    },
    {
     "name": "stdout",
     "output_type": "stream",
     "text": [
      "Epoch [51/150], Loss: 0.2362\n"
     ]
    },
    {
     "name": "stderr",
     "output_type": "stream",
     "text": [
      "100%|██████████| 1420/1420 [00:10<00:00, 140.30it/s]\n"
     ]
    },
    {
     "name": "stdout",
     "output_type": "stream",
     "text": [
      "Accuracy: 70.22%\n"
     ]
    },
    {
     "name": "stderr",
     "output_type": "stream",
     "text": [
      "100%|██████████| 7103/7103 [01:23<00:00, 84.77it/s] \n",
      "100%|██████████| 1420/1420 [00:11<00:00, 126.75it/s]\n",
      "100%|██████████| 7103/7103 [01:23<00:00, 84.83it/s] \n",
      "100%|██████████| 1420/1420 [00:11<00:00, 124.63it/s]\n",
      "100%|██████████| 7103/7103 [01:25<00:00, 82.93it/s] \n"
     ]
    },
    {
     "name": "stdout",
     "output_type": "stream",
     "text": [
      "Epoch [54/150], Loss: 0.2361\n"
     ]
    },
    {
     "name": "stderr",
     "output_type": "stream",
     "text": [
      "100%|██████████| 1420/1420 [00:11<00:00, 124.10it/s]\n"
     ]
    },
    {
     "name": "stdout",
     "output_type": "stream",
     "text": [
      "Accuracy: 70.57%\n"
     ]
    },
    {
     "name": "stderr",
     "output_type": "stream",
     "text": [
      "100%|██████████| 7103/7103 [01:24<00:00, 84.37it/s] \n",
      "100%|██████████| 1420/1420 [00:10<00:00, 134.76it/s]\n",
      "100%|██████████| 7103/7103 [01:24<00:00, 84.05it/s] \n"
     ]
    },
    {
     "name": "stdout",
     "output_type": "stream",
     "text": [
      "Epoch [56/150], Loss: 0.2360\n"
     ]
    },
    {
     "name": "stderr",
     "output_type": "stream",
     "text": [
      "100%|██████████| 1420/1420 [00:11<00:00, 124.86it/s]\n"
     ]
    },
    {
     "name": "stdout",
     "output_type": "stream",
     "text": [
      "Accuracy: 70.30%\n"
     ]
    },
    {
     "name": "stderr",
     "output_type": "stream",
     "text": [
      "100%|██████████| 7103/7103 [01:22<00:00, 86.05it/s] \n",
      "100%|██████████| 1420/1420 [00:11<00:00, 124.11it/s]\n",
      "100%|██████████| 7103/7103 [01:23<00:00, 85.10it/s] \n"
     ]
    },
    {
     "name": "stdout",
     "output_type": "stream",
     "text": [
      "Epoch [58/150], Loss: 0.2358\n"
     ]
    },
    {
     "name": "stderr",
     "output_type": "stream",
     "text": [
      "100%|██████████| 1420/1420 [00:11<00:00, 124.60it/s]\n"
     ]
    },
    {
     "name": "stdout",
     "output_type": "stream",
     "text": [
      "Accuracy: 70.44%\n"
     ]
    },
    {
     "name": "stderr",
     "output_type": "stream",
     "text": [
      "100%|██████████| 7103/7103 [01:26<00:00, 82.10it/s] \n",
      "100%|██████████| 1420/1420 [00:10<00:00, 134.23it/s]\n",
      "100%|██████████| 7103/7103 [01:22<00:00, 86.38it/s] \n"
     ]
    },
    {
     "name": "stdout",
     "output_type": "stream",
     "text": [
      "Epoch [60/150], Loss: 0.2356\n"
     ]
    },
    {
     "name": "stderr",
     "output_type": "stream",
     "text": [
      "100%|██████████| 1420/1420 [00:10<00:00, 134.36it/s]\n"
     ]
    },
    {
     "name": "stdout",
     "output_type": "stream",
     "text": [
      "Accuracy: 70.40%\n"
     ]
    },
    {
     "name": "stderr",
     "output_type": "stream",
     "text": [
      "100%|██████████| 7103/7103 [01:26<00:00, 82.51it/s] \n",
      "100%|██████████| 1420/1420 [00:12<00:00, 112.70it/s]\n",
      "100%|██████████| 7103/7103 [01:33<00:00, 75.79it/s] \n"
     ]
    },
    {
     "name": "stdout",
     "output_type": "stream",
     "text": [
      "Epoch [62/150], Loss: 0.2355\n"
     ]
    },
    {
     "name": "stderr",
     "output_type": "stream",
     "text": [
      "100%|██████████| 1420/1420 [00:11<00:00, 128.86it/s]\n"
     ]
    },
    {
     "name": "stdout",
     "output_type": "stream",
     "text": [
      "Accuracy: 70.40%\n"
     ]
    },
    {
     "name": "stderr",
     "output_type": "stream",
     "text": [
      "100%|██████████| 7103/7103 [01:38<00:00, 72.07it/s] \n",
      "100%|██████████| 1420/1420 [00:12<00:00, 115.25it/s]\n",
      "100%|██████████| 7103/7103 [01:39<00:00, 71.56it/s] \n",
      "100%|██████████| 1420/1420 [00:12<00:00, 113.57it/s]\n",
      "100%|██████████| 7103/7103 [01:32<00:00, 76.47it/s] \n",
      "100%|██████████| 1420/1420 [00:12<00:00, 118.01it/s]\n",
      "100%|██████████| 7103/7103 [01:42<00:00, 69.27it/s] \n"
     ]
    },
    {
     "name": "stdout",
     "output_type": "stream",
     "text": [
      "Epoch [66/150], Loss: 0.2354\n"
     ]
    },
    {
     "name": "stderr",
     "output_type": "stream",
     "text": [
      "100%|██████████| 1420/1420 [00:13<00:00, 107.77it/s]\n"
     ]
    },
    {
     "name": "stdout",
     "output_type": "stream",
     "text": [
      "Accuracy: 70.66%\n"
     ]
    },
    {
     "name": "stderr",
     "output_type": "stream",
     "text": [
      "100%|██████████| 7103/7103 [01:35<00:00, 74.52it/s] \n",
      "100%|██████████| 1420/1420 [00:12<00:00, 114.78it/s]\n",
      "100%|██████████| 7103/7103 [01:40<00:00, 70.49it/s] \n"
     ]
    },
    {
     "name": "stdout",
     "output_type": "stream",
     "text": [
      "Epoch [68/150], Loss: 0.2352\n"
     ]
    },
    {
     "name": "stderr",
     "output_type": "stream",
     "text": [
      "100%|██████████| 1420/1420 [00:14<00:00, 99.99it/s] \n"
     ]
    },
    {
     "name": "stdout",
     "output_type": "stream",
     "text": [
      "Accuracy: 70.51%\n"
     ]
    },
    {
     "name": "stderr",
     "output_type": "stream",
     "text": [
      "100%|██████████| 7103/7103 [01:42<00:00, 69.37it/s] \n",
      "100%|██████████| 1420/1420 [00:13<00:00, 105.21it/s]\n",
      "100%|██████████| 7103/7103 [01:33<00:00, 75.73it/s] \n",
      "100%|██████████| 1420/1420 [00:07<00:00, 185.13it/s]\n",
      "100%|██████████| 7103/7103 [01:09<00:00, 101.77it/s]\n"
     ]
    },
    {
     "name": "stdout",
     "output_type": "stream",
     "text": [
      "Epoch [71/150], Loss: 0.2352\n"
     ]
    },
    {
     "name": "stderr",
     "output_type": "stream",
     "text": [
      "100%|██████████| 1420/1420 [00:07<00:00, 184.65it/s]\n"
     ]
    },
    {
     "name": "stdout",
     "output_type": "stream",
     "text": [
      "Accuracy: 70.88%\n"
     ]
    },
    {
     "name": "stderr",
     "output_type": "stream",
     "text": [
      "100%|██████████| 7103/7103 [01:06<00:00, 106.27it/s]\n"
     ]
    },
    {
     "name": "stdout",
     "output_type": "stream",
     "text": [
      "Epoch [72/150], Loss: 0.2352\n"
     ]
    },
    {
     "name": "stderr",
     "output_type": "stream",
     "text": [
      "100%|██████████| 1420/1420 [00:07<00:00, 186.22it/s]\n"
     ]
    },
    {
     "name": "stdout",
     "output_type": "stream",
     "text": [
      "Accuracy: 70.65%\n"
     ]
    },
    {
     "name": "stderr",
     "output_type": "stream",
     "text": [
      "100%|██████████| 7103/7103 [01:04<00:00, 110.96it/s]\n"
     ]
    },
    {
     "name": "stdout",
     "output_type": "stream",
     "text": [
      "Epoch [73/150], Loss: 0.2351\n"
     ]
    },
    {
     "name": "stderr",
     "output_type": "stream",
     "text": [
      "100%|██████████| 1420/1420 [00:07<00:00, 188.56it/s]\n"
     ]
    },
    {
     "name": "stdout",
     "output_type": "stream",
     "text": [
      "Accuracy: 70.84%\n"
     ]
    },
    {
     "name": "stderr",
     "output_type": "stream",
     "text": [
      "100%|██████████| 7103/7103 [01:04<00:00, 109.34it/s]\n",
      "100%|██████████| 1420/1420 [00:08<00:00, 166.55it/s]\n",
      "100%|██████████| 7103/7103 [01:04<00:00, 110.44it/s]\n",
      "100%|██████████| 1420/1420 [00:08<00:00, 158.45it/s]\n",
      "100%|██████████| 7103/7103 [01:08<00:00, 103.93it/s]\n"
     ]
    },
    {
     "name": "stdout",
     "output_type": "stream",
     "text": [
      "Epoch [76/150], Loss: 0.2348\n"
     ]
    },
    {
     "name": "stderr",
     "output_type": "stream",
     "text": [
      "100%|██████████| 1420/1420 [00:09<00:00, 144.65it/s]\n"
     ]
    },
    {
     "name": "stdout",
     "output_type": "stream",
     "text": [
      "Accuracy: 70.72%\n"
     ]
    },
    {
     "name": "stderr",
     "output_type": "stream",
     "text": [
      "100%|██████████| 7103/7103 [01:06<00:00, 106.40it/s]\n"
     ]
    },
    {
     "name": "stdout",
     "output_type": "stream",
     "text": [
      "Epoch [77/150], Loss: 0.2347\n"
     ]
    },
    {
     "name": "stderr",
     "output_type": "stream",
     "text": [
      "100%|██████████| 1420/1420 [00:09<00:00, 152.84it/s]\n"
     ]
    },
    {
     "name": "stdout",
     "output_type": "stream",
     "text": [
      "Accuracy: 70.81%\n"
     ]
    },
    {
     "name": "stderr",
     "output_type": "stream",
     "text": [
      "100%|██████████| 7103/7103 [01:17<00:00, 91.96it/s] \n",
      "100%|██████████| 1420/1420 [00:10<00:00, 135.69it/s]\n",
      "100%|██████████| 7103/7103 [01:21<00:00, 87.21it/s] \n",
      "100%|██████████| 1420/1420 [00:10<00:00, 141.96it/s]\n",
      "100%|██████████| 7103/7103 [01:21<00:00, 86.89it/s] \n",
      "100%|██████████| 1420/1420 [00:10<00:00, 138.89it/s]\n",
      "100%|██████████| 7103/7103 [01:20<00:00, 88.06it/s] \n",
      "100%|██████████| 1420/1420 [00:09<00:00, 145.48it/s]\n",
      "100%|██████████| 7103/7103 [01:20<00:00, 88.47it/s] \n",
      "100%|██████████| 1420/1420 [00:09<00:00, 142.87it/s]\n",
      "100%|██████████| 7103/7103 [01:21<00:00, 86.68it/s] \n"
     ]
    },
    {
     "name": "stdout",
     "output_type": "stream",
     "text": [
      "Epoch [83/150], Loss: 0.2346\n"
     ]
    },
    {
     "name": "stderr",
     "output_type": "stream",
     "text": [
      "100%|██████████| 1420/1420 [00:12<00:00, 111.11it/s]\n"
     ]
    },
    {
     "name": "stdout",
     "output_type": "stream",
     "text": [
      "Accuracy: 70.59%\n"
     ]
    },
    {
     "name": "stderr",
     "output_type": "stream",
     "text": [
      "100%|██████████| 7103/7103 [01:33<00:00, 76.13it/s] \n"
     ]
    },
    {
     "name": "stdout",
     "output_type": "stream",
     "text": [
      "Epoch [84/150], Loss: 0.2345\n"
     ]
    },
    {
     "name": "stderr",
     "output_type": "stream",
     "text": [
      "100%|██████████| 1420/1420 [00:13<00:00, 105.82it/s]\n"
     ]
    },
    {
     "name": "stdout",
     "output_type": "stream",
     "text": [
      "Accuracy: 70.90%\n"
     ]
    },
    {
     "name": "stderr",
     "output_type": "stream",
     "text": [
      "100%|██████████| 7103/7103 [01:39<00:00, 71.62it/s] \n"
     ]
    },
    {
     "name": "stdout",
     "output_type": "stream",
     "text": [
      "Epoch [85/150], Loss: 0.2342\n"
     ]
    },
    {
     "name": "stderr",
     "output_type": "stream",
     "text": [
      "100%|██████████| 1420/1420 [00:11<00:00, 123.53it/s]\n"
     ]
    },
    {
     "name": "stdout",
     "output_type": "stream",
     "text": [
      "Accuracy: 70.83%\n"
     ]
    },
    {
     "name": "stderr",
     "output_type": "stream",
     "text": [
      "100%|██████████| 7103/7103 [01:31<00:00, 77.96it/s] \n",
      "100%|██████████| 1420/1420 [00:09<00:00, 149.55it/s]\n",
      "100%|██████████| 7103/7103 [01:21<00:00, 87.63it/s] \n",
      "100%|██████████| 1420/1420 [00:10<00:00, 136.64it/s]\n",
      "100%|██████████| 7103/7103 [01:39<00:00, 71.24it/s] \n",
      "100%|██████████| 1420/1420 [00:12<00:00, 111.47it/s]\n",
      "100%|██████████| 7103/7103 [01:46<00:00, 66.54it/s] \n",
      "100%|██████████| 1420/1420 [00:13<00:00, 104.64it/s]\n",
      "100%|██████████| 7103/7103 [01:42<00:00, 69.54it/s] \n",
      "100%|██████████| 1420/1420 [00:13<00:00, 103.33it/s]\n",
      "100%|██████████| 7103/7103 [01:48<00:00, 65.28it/s] \n"
     ]
    },
    {
     "name": "stdout",
     "output_type": "stream",
     "text": [
      "Epoch [91/150], Loss: 0.2340\n"
     ]
    },
    {
     "name": "stderr",
     "output_type": "stream",
     "text": [
      "100%|██████████| 1420/1420 [00:13<00:00, 107.75it/s]\n"
     ]
    },
    {
     "name": "stdout",
     "output_type": "stream",
     "text": [
      "Accuracy: 70.69%\n"
     ]
    },
    {
     "name": "stderr",
     "output_type": "stream",
     "text": [
      "100%|██████████| 7103/7103 [01:48<00:00, 65.58it/s] \n",
      "100%|██████████| 1420/1420 [00:14<00:00, 97.08it/s] \n",
      "100%|██████████| 7103/7103 [01:43<00:00, 68.63it/s] \n",
      "100%|██████████| 1420/1420 [00:14<00:00, 97.47it/s] \n",
      "100%|██████████| 7103/7103 [01:54<00:00, 61.84it/s] \n",
      "100%|██████████| 1420/1420 [00:12<00:00, 110.49it/s]\n",
      "100%|██████████| 7103/7103 [01:56<00:00, 61.14it/s]\n",
      "100%|██████████| 1420/1420 [00:17<00:00, 83.32it/s] \n",
      "100%|██████████| 7103/7103 [01:50<00:00, 64.36it/s] \n"
     ]
    },
    {
     "name": "stdout",
     "output_type": "stream",
     "text": [
      "Epoch [96/150], Loss: 0.2339\n"
     ]
    },
    {
     "name": "stderr",
     "output_type": "stream",
     "text": [
      "100%|██████████| 1420/1420 [00:12<00:00, 109.32it/s]\n"
     ]
    },
    {
     "name": "stdout",
     "output_type": "stream",
     "text": [
      "Accuracy: 71.00%\n"
     ]
    },
    {
     "name": "stderr",
     "output_type": "stream",
     "text": [
      "100%|██████████| 7103/7103 [01:54<00:00, 61.91it/s]\n"
     ]
    },
    {
     "name": "stdout",
     "output_type": "stream",
     "text": [
      "Epoch [97/150], Loss: 0.2338\n"
     ]
    },
    {
     "name": "stderr",
     "output_type": "stream",
     "text": [
      "100%|██████████| 1420/1420 [00:16<00:00, 84.39it/s] \n"
     ]
    },
    {
     "name": "stdout",
     "output_type": "stream",
     "text": [
      "Accuracy: 71.06%\n"
     ]
    },
    {
     "name": "stderr",
     "output_type": "stream",
     "text": [
      "100%|██████████| 7103/7103 [02:07<00:00, 55.50it/s]\n",
      "100%|██████████| 1420/1420 [00:19<00:00, 72.70it/s]\n",
      "100%|██████████| 7103/7103 [01:10<00:00, 101.38it/s]\n",
      "100%|██████████| 1420/1420 [00:07<00:00, 189.72it/s]\n",
      "100%|██████████| 7103/7103 [01:05<00:00, 108.81it/s]\n"
     ]
    },
    {
     "name": "stdout",
     "output_type": "stream",
     "text": [
      "Epoch [100/150], Loss: 0.2337\n"
     ]
    },
    {
     "name": "stderr",
     "output_type": "stream",
     "text": [
      "100%|██████████| 1420/1420 [00:07<00:00, 186.79it/s]\n"
     ]
    },
    {
     "name": "stdout",
     "output_type": "stream",
     "text": [
      "Accuracy: 71.12%\n"
     ]
    },
    {
     "name": "stderr",
     "output_type": "stream",
     "text": [
      "100%|██████████| 7103/7103 [01:03<00:00, 111.59it/s]\n",
      "100%|██████████| 1420/1420 [00:08<00:00, 173.34it/s]\n",
      "100%|██████████| 7103/7103 [01:05<00:00, 108.39it/s]\n",
      "100%|██████████| 1420/1420 [00:07<00:00, 179.77it/s]\n",
      "100%|██████████| 7103/7103 [01:02<00:00, 114.49it/s]\n",
      "100%|██████████| 1420/1420 [00:07<00:00, 177.83it/s]\n",
      "100%|██████████| 7103/7103 [01:29<00:00, 79.03it/s] \n",
      "100%|██████████| 1420/1420 [00:15<00:00, 89.12it/s] \n",
      "100%|██████████| 7103/7103 [01:48<00:00, 65.55it/s] \n",
      "100%|██████████| 1420/1420 [00:16<00:00, 88.56it/s] \n",
      "100%|██████████| 7103/7103 [01:49<00:00, 64.85it/s] \n"
     ]
    },
    {
     "name": "stdout",
     "output_type": "stream",
     "text": [
      "Epoch [106/150], Loss: 0.2334\n"
     ]
    },
    {
     "name": "stderr",
     "output_type": "stream",
     "text": [
      "100%|██████████| 1420/1420 [00:14<00:00, 97.17it/s] \n"
     ]
    },
    {
     "name": "stdout",
     "output_type": "stream",
     "text": [
      "Accuracy: 71.03%\n"
     ]
    },
    {
     "name": "stderr",
     "output_type": "stream",
     "text": [
      "100%|██████████| 7103/7103 [01:58<00:00, 60.19it/s] \n",
      "100%|██████████| 1420/1420 [00:13<00:00, 105.78it/s]\n",
      "100%|██████████| 7103/7103 [01:48<00:00, 65.63it/s] \n",
      "100%|██████████| 1420/1420 [00:17<00:00, 82.58it/s]\n",
      "100%|██████████| 7103/7103 [01:50<00:00, 64.36it/s] \n",
      "100%|██████████| 1420/1420 [00:14<00:00, 97.77it/s] \n",
      "100%|██████████| 7103/7103 [01:47<00:00, 66.07it/s] \n",
      "100%|██████████| 1420/1420 [00:12<00:00, 113.65it/s]\n",
      "100%|██████████| 7103/7103 [01:44<00:00, 68.00it/s] \n",
      "100%|██████████| 1420/1420 [00:14<00:00, 96.23it/s] \n",
      "100%|██████████| 7103/7103 [01:44<00:00, 68.05it/s]\n"
     ]
    },
    {
     "name": "stdout",
     "output_type": "stream",
     "text": [
      "Epoch [112/150], Loss: 0.2331\n"
     ]
    },
    {
     "name": "stderr",
     "output_type": "stream",
     "text": [
      "100%|██████████| 1420/1420 [00:14<00:00, 101.10it/s]\n"
     ]
    },
    {
     "name": "stdout",
     "output_type": "stream",
     "text": [
      "Accuracy: 71.02%\n"
     ]
    },
    {
     "name": "stderr",
     "output_type": "stream",
     "text": [
      "100%|██████████| 7103/7103 [01:48<00:00, 65.23it/s]\n",
      "100%|██████████| 1420/1420 [00:17<00:00, 83.27it/s] \n",
      "100%|██████████| 7103/7103 [01:49<00:00, 64.98it/s]\n",
      "100%|██████████| 1420/1420 [00:15<00:00, 89.16it/s] \n",
      "100%|██████████| 7103/7103 [01:47<00:00, 65.91it/s] \n",
      "100%|██████████| 1420/1420 [00:13<00:00, 102.79it/s]\n",
      "100%|██████████| 7103/7103 [01:51<00:00, 63.90it/s]\n",
      "100%|██████████| 1420/1420 [00:15<00:00, 91.74it/s] \n",
      "100%|██████████| 7103/7103 [01:48<00:00, 65.40it/s]\n",
      "100%|██████████| 1420/1420 [00:16<00:00, 84.14it/s] \n",
      "100%|██████████| 7103/7103 [01:47<00:00, 66.05it/s]\n"
     ]
    },
    {
     "name": "stdout",
     "output_type": "stream",
     "text": [
      "Epoch [118/150], Loss: 0.2330\n"
     ]
    },
    {
     "name": "stderr",
     "output_type": "stream",
     "text": [
      "100%|██████████| 1420/1420 [00:15<00:00, 89.37it/s] \n"
     ]
    },
    {
     "name": "stdout",
     "output_type": "stream",
     "text": [
      "Accuracy: 71.03%\n"
     ]
    },
    {
     "name": "stderr",
     "output_type": "stream",
     "text": [
      "100%|██████████| 7103/7103 [01:45<00:00, 67.44it/s] \n",
      "100%|██████████| 1420/1420 [00:12<00:00, 109.77it/s]\n",
      "100%|██████████| 7103/7103 [01:46<00:00, 66.65it/s] \n",
      "100%|██████████| 1420/1420 [00:14<00:00, 101.34it/s]\n",
      "100%|██████████| 7103/7103 [01:56<00:00, 60.85it/s]\n"
     ]
    },
    {
     "name": "stdout",
     "output_type": "stream",
     "text": [
      "Epoch [121/150], Loss: 0.2329\n"
     ]
    },
    {
     "name": "stderr",
     "output_type": "stream",
     "text": [
      "100%|██████████| 1420/1420 [00:14<00:00, 99.07it/s] \n"
     ]
    },
    {
     "name": "stdout",
     "output_type": "stream",
     "text": [
      "Accuracy: 70.98%\n"
     ]
    },
    {
     "name": "stderr",
     "output_type": "stream",
     "text": [
      "100%|██████████| 7103/7103 [01:59<00:00, 59.59it/s]\n",
      "100%|██████████| 1420/1420 [00:16<00:00, 86.64it/s] \n",
      "100%|██████████| 7103/7103 [01:22<00:00, 86.13it/s] \n",
      "100%|██████████| 1420/1420 [00:16<00:00, 86.41it/s] \n",
      "100%|██████████| 7103/7103 [01:03<00:00, 111.13it/s]\n"
     ]
    },
    {
     "name": "stdout",
     "output_type": "stream",
     "text": [
      "Epoch [124/150], Loss: 0.2329\n"
     ]
    },
    {
     "name": "stderr",
     "output_type": "stream",
     "text": [
      "100%|██████████| 1420/1420 [00:06<00:00, 210.85it/s]\n"
     ]
    },
    {
     "name": "stdout",
     "output_type": "stream",
     "text": [
      "Accuracy: 71.02%\n"
     ]
    },
    {
     "name": "stderr",
     "output_type": "stream",
     "text": [
      "100%|██████████| 7103/7103 [00:58<00:00, 120.90it/s]\n",
      "100%|██████████| 1420/1420 [00:07<00:00, 201.91it/s]\n",
      "100%|██████████| 7103/7103 [01:03<00:00, 111.72it/s]\n",
      "100%|██████████| 1420/1420 [00:07<00:00, 179.46it/s]\n",
      "100%|██████████| 7103/7103 [01:03<00:00, 112.10it/s]\n"
     ]
    },
    {
     "name": "stdout",
     "output_type": "stream",
     "text": [
      "Epoch [127/150], Loss: 0.2326\n"
     ]
    },
    {
     "name": "stderr",
     "output_type": "stream",
     "text": [
      "100%|██████████| 1420/1420 [00:07<00:00, 178.59it/s]\n"
     ]
    },
    {
     "name": "stdout",
     "output_type": "stream",
     "text": [
      "Accuracy: 71.02%\n"
     ]
    },
    {
     "name": "stderr",
     "output_type": "stream",
     "text": [
      "100%|██████████| 7103/7103 [01:12<00:00, 97.80it/s] \n",
      "100%|██████████| 1420/1420 [00:13<00:00, 108.98it/s]\n",
      "100%|██████████| 7103/7103 [01:47<00:00, 65.78it/s]\n",
      "100%|██████████| 1420/1420 [00:13<00:00, 106.38it/s]\n",
      "100%|██████████| 7103/7103 [01:41<00:00, 70.15it/s] \n",
      "100%|██████████| 1420/1420 [00:15<00:00, 91.55it/s] \n",
      "100%|██████████| 7103/7103 [01:42<00:00, 69.54it/s] \n",
      "100%|██████████| 1420/1420 [00:12<00:00, 110.81it/s]\n",
      "100%|██████████| 7103/7103 [01:44<00:00, 68.17it/s]\n",
      "100%|██████████| 1420/1420 [00:15<00:00, 91.57it/s] \n",
      "100%|██████████| 7103/7103 [01:38<00:00, 71.89it/s] \n",
      "100%|██████████| 1420/1420 [00:12<00:00, 115.80it/s]\n",
      "100%|██████████| 7103/7103 [01:42<00:00, 69.60it/s] \n",
      "100%|██████████| 1420/1420 [00:14<00:00, 97.38it/s] \n",
      "100%|██████████| 7103/7103 [01:37<00:00, 72.56it/s] \n",
      "100%|██████████| 1420/1420 [00:13<00:00, 107.04it/s]\n",
      "100%|██████████| 7103/7103 [01:41<00:00, 69.85it/s] \n",
      "100%|██████████| 1420/1420 [00:16<00:00, 85.59it/s] \n",
      "100%|██████████| 7103/7103 [01:47<00:00, 66.23it/s] \n",
      "100%|██████████| 1420/1420 [00:14<00:00, 94.73it/s] \n",
      "100%|██████████| 7103/7103 [01:36<00:00, 73.94it/s] \n",
      "100%|██████████| 1420/1420 [00:12<00:00, 113.21it/s]\n",
      "100%|██████████| 7103/7103 [01:36<00:00, 73.33it/s] \n",
      "100%|██████████| 1420/1420 [00:11<00:00, 118.36it/s]\n",
      "100%|██████████| 7103/7103 [01:35<00:00, 74.11it/s] \n",
      "100%|██████████| 1420/1420 [00:10<00:00, 130.57it/s]\n",
      "100%|██████████| 7103/7103 [01:32<00:00, 77.08it/s] \n",
      "100%|██████████| 1420/1420 [00:13<00:00, 108.96it/s]\n",
      "100%|██████████| 7103/7103 [01:38<00:00, 72.14it/s] \n",
      "100%|██████████| 1420/1420 [00:11<00:00, 128.66it/s]\n",
      "100%|██████████| 7103/7103 [01:43<00:00, 68.72it/s] \n",
      "100%|██████████| 1420/1420 [00:13<00:00, 104.72it/s]\n",
      "100%|██████████| 7103/7103 [01:43<00:00, 68.35it/s] \n",
      "100%|██████████| 1420/1420 [00:13<00:00, 104.78it/s]\n",
      "100%|██████████| 7103/7103 [01:41<00:00, 70.25it/s] \n",
      "100%|██████████| 1420/1420 [00:11<00:00, 127.19it/s]\n",
      "100%|██████████| 7103/7103 [01:40<00:00, 70.54it/s] \n",
      "100%|██████████| 1420/1420 [00:13<00:00, 104.58it/s]\n",
      "100%|██████████| 7103/7103 [01:47<00:00, 66.05it/s] \n",
      "100%|██████████| 1420/1420 [00:12<00:00, 115.62it/s]\n",
      "100%|██████████| 7103/7103 [01:43<00:00, 68.43it/s] \n",
      "100%|██████████| 1420/1420 [00:14<00:00, 95.88it/s] \n",
      "100%|██████████| 7103/7103 [01:03<00:00, 112.21it/s]\n"
     ]
    },
    {
     "name": "stdout",
     "output_type": "stream",
     "text": [
      "Epoch [149/150], Loss: 0.2325\n"
     ]
    },
    {
     "name": "stderr",
     "output_type": "stream",
     "text": [
      "100%|██████████| 1420/1420 [00:07<00:00, 183.84it/s]\n"
     ]
    },
    {
     "name": "stdout",
     "output_type": "stream",
     "text": [
      "Accuracy: 71.40%\n"
     ]
    },
    {
     "name": "stderr",
     "output_type": "stream",
     "text": [
      "100%|██████████| 7103/7103 [01:11<00:00, 99.30it/s] \n",
      "100%|██████████| 1420/1420 [00:08<00:00, 172.94it/s]"
     ]
    },
    {
     "name": "stdout",
     "output_type": "stream",
     "text": [
      "Training complete.\n"
     ]
    },
    {
     "name": "stderr",
     "output_type": "stream",
     "text": [
      "\n"
     ]
    }
   ],
   "source": [
    "# Hyperparameters\n",
    "input_dim = 28  # Input size of each sequence element\n",
    "seq_len = 38    # Sequence length\n",
    "num_classes = 26  # Number of classes\n",
    "embed_size = 48  # Embedding size\n",
    "num_heads = 4    # Number of heads in multi-head attention\n",
    "hidden_dim = 196  # Hidden dimension size in the feedforward layer\n",
    "num_layers = 4  # Number of Transformer Encoder layers\n",
    "dropout = 0.1    # Dropout rate\n",
    "batch_size = 32\n",
    "\n",
    "# Create a dataset and data loader\n",
    "dataset = Dict_Dataset(full_dictionary)\n",
    "train_set, val_set = torch.utils.data.random_split(dataset, [0.8, 0.2])\n",
    "\n",
    "train_dataloader = DataLoader(dataset, batch_size=batch_size, shuffle=True,num_workers=6,drop_last=True)\n",
    "val_dataloader = DataLoader(val_set, batch_size=batch_size, shuffle=True,num_workers=4,drop_last=True)\n",
    "device = 'cuda:2'\n",
    "# Initialize the model, loss function, and optimizer\n",
    "model = LSTMClassifier(batch_size, num_classes, hidden_dim, input_dim, embed_size,device)\n",
    "# model.load_state_dict(torch.load('models/lstm_best'))\n",
    "\n",
    "model.to(device)\n",
    "criterion = nn.BCEWithLogitsLoss()\n",
    "optimizer = optim.Adam(model.parameters(), lr=0.001)\n",
    "\n",
    "# Training loop\n",
    "max_epoch_loss = 99\n",
    "num_epochs = 150\n",
    "flag=0\n",
    "for epoch in range(num_epochs):\n",
    "    model.train()\n",
    "    running_loss = 0.0\n",
    "    for inputs, labels in tqdm.tqdm(train_dataloader):\n",
    "        optimizer.zero_grad()\n",
    "        outputs = model(inputs.to(device))\n",
    "        # print(outputs)\n",
    "        # stop\n",
    "        loss = criterion(outputs.cpu(), labels)\n",
    "        loss.backward()\n",
    "        clip_gradient(model, 1e-1)\n",
    "        optimizer.step()\n",
    "        \n",
    "        running_loss += loss.item() * inputs.size(0)\n",
    "\n",
    "    epoch_loss = running_loss / len(dataset)\n",
    "    if epoch_loss < max_epoch_loss:\n",
    "        flag = 1\n",
    "        max_epoch_loss = epoch_loss\n",
    "        torch.save(model.state_dict(), f'models/lstm_2_{epoch}')\n",
    "        torch.save(model.state_dict(), f'models/lstm_2_best')\n",
    "        print(f'Epoch [{epoch+1}/{num_epochs}], Loss: {epoch_loss:.4f}')\n",
    "\n",
    "    # Evaluation\n",
    "    model.eval()\n",
    "    correct = 0\n",
    "    total = 0\n",
    "    with torch.no_grad():\n",
    "        for inputs, labels in tqdm.tqdm(val_dataloader):\n",
    "            outputs = model(inputs.to(device)).cpu()\n",
    "            # print(torch.argmax(outputs.data, 1))\n",
    "            # print(labels)\n",
    "            predicted = torch.argmax(outputs.data, 1)\n",
    "            total += labels.size(0)\n",
    "            # print(torch.sum(torch.Tensor([labels[ind,i] for ind,i in enumerate(predicted)])))\n",
    "            correct += torch.sum(torch.Tensor([labels[ind,i] for ind,i in enumerate(predicted)])).item()\n",
    "    \n",
    "    accuracy = 100 * correct / total\n",
    "    if flag==1:\n",
    "        flag=0\n",
    "        print(f'Accuracy: {accuracy:.2f}%')\n",
    "\n",
    "\n",
    "print(\"Training complete.\")\n"
   ]
  },
  {
   "cell_type": "code",
   "execution_count": null,
   "metadata": {},
   "outputs": [],
   "source": []
  },
  {
   "cell_type": "code",
   "execution_count": null,
   "metadata": {},
   "outputs": [],
   "source": []
  }
 ],
 "metadata": {
  "kernelspec": {
   "display_name": "Python 3",
   "language": "python",
   "name": "python3"
  },
  "language_info": {
   "codemirror_mode": {
    "name": "ipython",
    "version": 3
   },
   "file_extension": ".py",
   "mimetype": "text/x-python",
   "name": "python",
   "nbconvert_exporter": "python",
   "pygments_lexer": "ipython3",
   "version": "3.8.10"
  }
 },
 "nbformat": 4,
 "nbformat_minor": 2
}
